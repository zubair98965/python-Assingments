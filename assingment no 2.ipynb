{
 "cells": [
  {
   "cell_type": "code",
   "execution_count": 10,
   "metadata": {},
   "outputs": [
    {
     "name": "stdout",
     "output_type": "stream",
     "text": [
      "entre the marks of maths 50\n",
      "entre the marks of physis 60\n",
      "entre the marks of chemister 70\n",
      "entre the marks of english 80\n",
      "entre the marks of islamiate 90\n",
      "obtained_marks =  350 out of 500\n",
      "persentage 70.0\n",
      "your grade is A\n"
     ]
    }
   ],
   "source": [
    "sub1 = int(input(\"entre the marks of maths \"))\n",
    "sub2 = int(input(\"entre the marks of physis \"))\n",
    "sub3 = int(input(\"entre the marks of chemister \"))\n",
    "sub4 = int(input(\"entre the marks of english \"))\n",
    "sub5 = int(input(\"entre the marks of islamiate \"))\n",
    "\n",
    "obtained_marks = (sub1 + sub2 + sub3 + sub4 + sub5)\n",
    "print(\"obtained_marks = \",obtained_marks,\"out of 500\")\n",
    "\n",
    "per=(obtained_marks*100)/500\n",
    "print(\"persentage\" , per)\n",
    "\n",
    "if per >= 80 and per <= 100:\n",
    "    print(\"your grade is A+\")\n",
    "elif per >=70  and per < 80:\n",
    "    print(\"your grade is A\")\n",
    "elif per >= 60 and per < 70:\n",
    "    print(\"your grade is B\")\n",
    "elif per >= 50 and per < 60:\n",
    "    print(\"your grade is C\")\n",
    "elif per >= 40 and per < 50:\n",
    "    print(\"your grade is D\")\n",
    "elif per >= 0 and per < 40:\n",
    "    print(\"your are fail\")\n",
    "else :\n",
    "    print(\"invalid\")\n",
    "    \n",
    "                                                                  "
   ]
  },
  {
   "cell_type": "code",
   "execution_count": 30,
   "metadata": {},
   "outputs": [
    {
     "name": "stdout",
     "output_type": "stream",
     "text": [
      "entre the number 5\n",
      "The entre number is ODD\n"
     ]
    }
   ],
   "source": [
    "num=int(input(\"entre the number \"))\n",
    "if (num % 2 == 0) :\n",
    "        print(\"The entre number is EVEN\")\n",
    "else :\n",
    "        print(\"The entre number is ODD\")"
   ]
  },
  {
   "cell_type": "code",
   "execution_count": 37,
   "metadata": {},
   "outputs": [
    {
     "name": "stdout",
     "output_type": "stream",
     "text": [
      "the lenghts of the list is 11\n"
     ]
    }
   ],
   "source": [
    "a = [1, 1, 2, 3, 5, 8, 13, 21, 34, 55, 89]\n",
    "print(\"the lenghts of the list is\", len(a))\n",
    "print()"
   ]
  },
  {
   "cell_type": "code",
   "execution_count": 42,
   "metadata": {},
   "outputs": [
    {
     "name": "stdout",
     "output_type": "stream",
     "text": [
      "sum of all the numeric items in a list is 232\n"
     ]
    }
   ],
   "source": [
    "a = [1, 1, 2, 3, 5, 8, 13, 21, 34, 55, 89]\n",
    "sum(a)\n",
    "print(\"sum of all the numeric items in a list is\" ,sum(a))\n"
   ]
  },
  {
   "cell_type": "code",
   "execution_count": 2,
   "metadata": {},
   "outputs": [
    {
     "name": "stdout",
     "output_type": "stream",
     "text": [
      "the largest number is  89\n"
     ]
    }
   ],
   "source": [
    "a = [1, 1, 2, 3, 5, 8, 13, 21, 34, 55, 89]\n",
    "print(\"the largest number is \" ,max(a))"
   ]
  },
  {
   "cell_type": "code",
   "execution_count": 2,
   "metadata": {},
   "outputs": [
    {
     "name": "stdout",
     "output_type": "stream",
     "text": [
      "[1, 1, 2, 3]\n"
     ]
    }
   ],
   "source": [
    "my_list = [1, 1, 2, 3, 5, 8, 13, 21, 34, 55, 89]\n",
    "new_list = []\n",
    "\n",
    "for element in my_list:\n",
    "    if element < 5:\n",
    "        new_list.append(element)\n",
    "\n",
    "print(new_list)"
   ]
  },
  {
   "cell_type": "code",
   "execution_count": null,
   "metadata": {},
   "outputs": [],
   "source": []
  }
 ],
 "metadata": {
  "kernelspec": {
   "display_name": "Python 3",
   "language": "python",
   "name": "python3"
  },
  "language_info": {
   "codemirror_mode": {
    "name": "ipython",
    "version": 3
   },
   "file_extension": ".py",
   "mimetype": "text/x-python",
   "name": "python",
   "nbconvert_exporter": "python",
   "pygments_lexer": "ipython3",
   "version": "3.7.4"
  }
 },
 "nbformat": 4,
 "nbformat_minor": 2
}
