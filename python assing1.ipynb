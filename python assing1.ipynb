{
 "cells": [
  {
   "cell_type": "code",
   "execution_count": 1,
   "metadata": {},
   "outputs": [
    {
     "name": "stdout",
     "output_type": "stream",
     "text": [
      "Twinkle, twinkle, little star,\n",
      "      How I wonder what you are!\n",
      "            up above the world so high,\n",
      "            like a diamond in the sky.\n",
      "Twinkle, twinkle, little star,\n",
      "      How I wonder what you are!\n"
     ]
    }
   ],
   "source": [
    "print(\"Twinkle, twinkle, little star,\")\n",
    "print(\"      How I wonder what you are!\")\n",
    "print(\"            up above the world so high,\")\n",
    "print(\"            like a diamond in the sky.\")\n",
    "print(\"Twinkle, twinkle, little star,\")\n",
    "print(\"      How I wonder what you are!\")"
   ]
  },
  {
   "cell_type": "code",
   "execution_count": 2,
   "metadata": {},
   "outputs": [
    {
     "name": "stdout",
     "output_type": "stream",
     "text": [
      "the version of python is 3.7 \n"
     ]
    }
   ],
   "source": [
    "print(\"the version of python is 3.7 \")"
   ]
  },
  {
   "cell_type": "code",
   "execution_count": 3,
   "metadata": {},
   "outputs": [
    {
     "name": "stdout",
     "output_type": "stream",
     "text": [
      "entre current date 03\n",
      "entre current month november\n",
      "entre current year 2019\n",
      "entre the current hour 4\n",
      "entre the current minutes 48\n",
      "is it Am or pm? pm\n",
      "current date 03-november-2019\n",
      "current time 4:48pm\n"
     ]
    }
   ],
   "source": [
    "date=(input(\"entre current date \"))\n",
    "month=(input(\"entre current month \"))\n",
    "year=(input(\"entre current year \"))\n",
    "dash=('-')\n",
    "cd=('current date ')\n",
    "\n",
    "hour=(input(\"entre the current hour \"))\n",
    "minute=(input(\"entre the current minutes \"))\n",
    "dn=(input (\"is it Am or pm? \"))\n",
    "colon=(\":\")\n",
    "ct=(\"current time \")\n",
    "\n",
    "currentdate= cd + date + dash + month + dash + year\n",
    "currenttime= ct + hour + colon + minute +dn\n",
    "print(currentdate)\n",
    "print(currenttime)"
   ]
  },
  {
   "cell_type": "code",
   "execution_count": 17,
   "metadata": {},
   "outputs": [
    {
     "name": "stdout",
     "output_type": "stream",
     "text": [
      "entre the value of radius in meter12\n",
      "formula A=pi*r^2\n",
      "the area of a circle is \n",
      "452.448 square meter\n"
     ]
    }
   ],
   "source": [
    "pi=3.142\n",
    "r1=int(input(\"entre the value of radius in meter\"))\n",
    "r2=(r1*r1)*pi\n",
    "print(\"formula A=pi*r^2\")\n",
    "print(\"the area of a circle is \")\n",
    "print(r2,\"square meter\")"
   ]
  },
  {
   "cell_type": "code",
   "execution_count": 5,
   "metadata": {},
   "outputs": [
    {
     "name": "stdout",
     "output_type": "stream",
     "text": [
      "entre the user's first name muhammad \n",
      "entre the user's last name zubair\n",
      "zubair muhammad \n"
     ]
    }
   ],
   "source": [
    "a=(input(\"entre the user's first name \"))\n",
    "b=(input(\"entre the user's last name \"))\n",
    "c=(\" \")\n",
    "d= b + c + a\n",
    "\n",
    "print (d)"
   ]
  },
  {
   "cell_type": "code",
   "execution_count": 20,
   "metadata": {},
   "outputs": [
    {
     "name": "stdout",
     "output_type": "stream",
     "text": [
      "entre the fisrt value12\n",
      "entre the second value13\n",
      "the addition is  25\n"
     ]
    }
   ],
   "source": [
    "a=int(input(\"entre the fisrt value\"))\n",
    "b=int(input(\"entre the second value\"))\n",
    "c=a+b\n",
    "print(\"the addition is \",c)    "
   ]
  },
  {
   "cell_type": "code",
   "execution_count": null,
   "metadata": {},
   "outputs": [],
   "source": []
  }
 ],
 "metadata": {
  "kernelspec": {
   "display_name": "Python 3",
   "language": "python",
   "name": "python3"
  },
  "language_info": {
   "codemirror_mode": {
    "name": "ipython",
    "version": 3
   },
   "file_extension": ".py",
   "mimetype": "text/x-python",
   "name": "python",
   "nbconvert_exporter": "python",
   "pygments_lexer": "ipython3",
   "version": "3.7.4"
  }
 },
 "nbformat": 4,
 "nbformat_minor": 2
}
