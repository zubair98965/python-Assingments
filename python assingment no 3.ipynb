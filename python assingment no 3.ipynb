{
 "cells": [
  {
   "cell_type": "code",
   "execution_count": 1,
   "metadata": {},
   "outputs": [
    {
     "name": "stdout",
     "output_type": "stream",
     "text": [
      "for addition please press operator       + \n",
      "for substraction please press operator   - \n",
      "for multiplication please press operator * \n",
      "for division please press operator       / \n",
      "for power please press operator          p \n",
      "\n",
      "entre the first value 2\n",
      "entre the second value 5\n",
      "entre the operator p\n",
      "answer is  32\n"
     ]
    }
   ],
   "source": [
    "print(\"for addition please press operator       + \")\n",
    "print(\"for substraction please press operator   - \")\n",
    "print(\"for multiplication please press operator * \")\n",
    "print(\"for division please press operator       / \")\n",
    "print(\"for power please press operator          p \")\n",
    "print(\"\")\n",
    "\n",
    "value1 = int(input(\"entre the first value \"))\n",
    "value2 = int(input(\"entre the second value \"))\n",
    "operator = input('entre the operator ')\n",
    "\n",
    "if operator == '+':\n",
    "    val = value1 + value2\n",
    "    print(\"answer is\",val)\n",
    "elif operator == '-':\n",
    "    val = value1 - value2\n",
    "    print(\"answer is\",val)\n",
    "elif operator == '*':\n",
    "    val = value1 * value2\n",
    "    print(\"answer is\",val)    \n",
    "elif operator == '/':\n",
    "    val = value1 / value2\n",
    "    print(\"answer is \",val)\n",
    "elif operator == 'p':\n",
    "    val = value1**value2\n",
    "    print(\"answer is \",val)    \n",
    "else:\n",
    "    print('invalid operator')"
   ]
  },
  {
   "cell_type": "code",
   "execution_count": 1,
   "metadata": {},
   "outputs": [
    {
     "name": "stdout",
     "output_type": "stream",
     "text": [
      "Numeric Value Exists\n"
     ]
    }
   ],
   "source": [
    "\n",
    "test_list = [\"Ali\",6,\"Pakistan\",4,3]\n",
    "for i in test_list: \n",
    "    if(i == 4) : \n",
    "        print (\"Numeric Value Exists\")"
   ]
  },
  {
   "cell_type": "code",
   "execution_count": 8,
   "metadata": {},
   "outputs": [
    {
     "name": "stdout",
     "output_type": "stream",
     "text": [
      "{'first name': 'muhammad zubair', 'last name': 'asif', 'address': 'P&T society', 'city': 'karachi'}\n"
     ]
    }
   ],
   "source": [
    "customer = {\"first name\": \"muhammad zubair\", \"last name\": \"asif\", \"address\": \"P&T society\" }\n",
    "customer[\"city\"] = \"karachi\"\n",
    "print(customer)\n"
   ]
  },
  {
   "cell_type": "code",
   "execution_count": 25,
   "metadata": {},
   "outputs": [
    {
     "name": "stdout",
     "output_type": "stream",
     "text": [
      "the sum of numeric items in dictionery is 316\n"
     ]
    }
   ],
   "source": [
    "dic = {\"maths\": 91, \"english\": 85, \"physics\": 75, \"chemistry\": 65}\n",
    "sum(dic.values())\n",
    "print(\"the sum of numeric items in dictionery is\",sum(dic.values()))"
   ]
  },
  {
   "cell_type": "code",
   "execution_count": 29,
   "metadata": {},
   "outputs": [
    {
     "name": "stdout",
     "output_type": "stream",
     "text": [
      "[10, 20, 30, 40, 50]\n"
     ]
    }
   ],
   "source": [
    "def unique_list(list):\n",
    "    uniq_list = []\n",
    "    uniq_set = set()\n",
    "    for item in list:\n",
    "       if item not in uniq_set:\n",
    "            uniq_list.append(item)\n",
    "            uniq_set.add(item)\n",
    "    return uniq_list\n",
    " \n",
    "list = [10,20,30,10,10,30,40,50]\n",
    "print(unique_list(list))"
   ]
  },
  {
   "cell_type": "code",
   "execution_count": null,
   "metadata": {},
   "outputs": [],
   "source": []
  }
 ],
 "metadata": {
  "kernelspec": {
   "display_name": "Python 3",
   "language": "python",
   "name": "python3"
  },
  "language_info": {
   "codemirror_mode": {
    "name": "ipython",
    "version": 3
   },
   "file_extension": ".py",
   "mimetype": "text/x-python",
   "name": "python",
   "nbconvert_exporter": "python",
   "pygments_lexer": "ipython3",
   "version": "3.7.4"
  }
 },
 "nbformat": 4,
 "nbformat_minor": 2
}
