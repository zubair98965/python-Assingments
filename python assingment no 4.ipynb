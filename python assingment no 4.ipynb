{
 "cells": [
  {
   "cell_type": "code",
   "execution_count": 1,
   "metadata": {
    "scrolled": true
   },
   "outputs": [
    {
     "name": "stdout",
     "output_type": "stream",
     "text": [
      "daniyal_khan biography\n",
      "\n",
      "my friend first_name is muhammad daniyal\n",
      "my friend last name is khan\n",
      "my friend age is 22\n",
      "my friend city is karachi\n",
      " \n",
      "adding qualification in daniyal_khan biography \n",
      " \n",
      "my friend first_name is muhammad daniyal\n",
      "my friend last name is khan\n",
      "my friend age is 22\n",
      "my friend city is karachi\n",
      "my friend qualification is graduation in progress\n",
      " \n",
      "deleting qualification from daniyal_khan biography  \n",
      " \n",
      "my friend first_name is muhammad daniyal\n",
      "my friend last name is khan\n",
      "my friend age is 22\n",
      "my friend city is karachi\n"
     ]
    }
   ],
   "source": [
    "#printing daniyal khan bio graphy\n",
    "\n",
    "print(\"daniyal_khan biography\")\n",
    "print(\"\")\n",
    "\n",
    "daniyal_kahan_biography = {\"first_name\":\"muhammad daniyal\",\"last name\":\"khan\",\"age\":\"22\",\"city\":\"karachi\"}\n",
    "\n",
    "for each_key,each_value in daniyal_kahan_biography.items():\n",
    "    print(\"my friend \"+each_key+\" is \"+each_value)\n",
    "\n",
    "#adding qualification to daniyal_khan biography\n",
    "\n",
    "daniyal_kahan_biography[\"qualification\"] = \"graduation in progress\"\n",
    "\n",
    "#printing updated biography of daniyal khan\n",
    "\n",
    "print(\" \")\n",
    "print(\"adding qualification in daniyal_khan biography \")\n",
    "print(\" \")\n",
    "\n",
    "for each_key,each_value in daniyal_kahan_biography.items():\n",
    "    print(\"my friend \"+each_key+\" is \"+each_value)\n",
    "\n",
    "#now deleting qualification from daniyal khan bio graphy\n",
    "    \n",
    "del daniyal_kahan_biography[\"qualification\"] \n",
    "\n",
    "print(\" \")\n",
    "print(\"deleting qualification from daniyal_khan biography  \")\n",
    "print(\" \")\n",
    "\n",
    "for each_key,each_value in daniyal_kahan_biography.items():\n",
    "    print(\"my friend \"+each_key+\" is \"+each_value)"
   ]
  },
  {
   "cell_type": "code",
   "execution_count": 2,
   "metadata": {},
   "outputs": [
    {
     "name": "stdout",
     "output_type": "stream",
     "text": [
      "karachi {'country': 'pakistan', 'population': '14.91 million', 'fact': 'Karachi is among the cheapest city to live in.'}\n",
      "london  {'country': 'england', 'population': '8.7 million', 'fact': 'Most Billionaires live in London'}\n",
      "toronto {'country': 'canada', 'population': '2.93 million', 'fact': 'The lowest recorded temperature Toronto has every had was -31.3 degrees C'}\n"
     ]
    }
   ],
   "source": [
    "cities = {\n",
    "\"karachi\":{ \n",
    "    \n",
    "\"country\":\"pakistan\",\n",
    "\"population\":\"14.91 million\",\n",
    "\"fact\":\"Karachi is among the cheapest city to live in.\",\n",
    "        \n",
    "}, \n",
    "    \n",
    "\"london \":{\n",
    "             \n",
    "\"country\":\"england\",\n",
    "\"population\":\"8.7 million\",\n",
    "\"fact\":\"Most Billionaires live in London\",\n",
    "        \n",
    "}, \n",
    "    \n",
    "\"toronto\":{\n",
    "        \n",
    "\"country\":\"canada\",\n",
    "\"population\":\"2.93 million\",\n",
    "\"fact\":\"The lowest recorded temperature Toronto has every had was -31.3 degrees C\",\n",
    "        \n",
    "},\n",
    "              }\n",
    "for each_key,each_value in cities.items():\n",
    "    print(each_key ,each_value)\n"
   ]
  },
  {
   "cell_type": "code",
   "execution_count": 3,
   "metadata": {},
   "outputs": [
    {
     "name": "stdout",
     "output_type": "stream",
     "text": [
      "please entre your age 5\n",
      "your ticket price is $10\n"
     ]
    }
   ],
   "source": [
    "age = int(input(\"please entre your age \"))\n",
    "\n",
    "if age <= 2:\n",
    "    print(\"your ticket is free\")\n",
    "elif age >=3 and age <=12:\n",
    "    print(\"your ticket price is $10\")\n",
    "else:\n",
    "    print(\"your ticket price is $15\")\n"
   ]
  },
  {
   "cell_type": "code",
   "execution_count": 4,
   "metadata": {},
   "outputs": [
    {
     "name": "stdout",
     "output_type": "stream",
     "text": [
      "One of my favorite books is Alice in Wonderland\n"
     ]
    }
   ],
   "source": [
    "def favorite_book(title):\n",
    "    print(\"One of my favorite books is \"+title)\n",
    "\n",
    "favorite_book(\"Alice in Wonderland\")"
   ]
  },
  {
   "cell_type": "code",
   "execution_count": 7,
   "metadata": {},
   "outputs": [
    {
     "name": "stdout",
     "output_type": "stream",
     "text": [
      "Well I am thinking of a number between 1 and 30.\n",
      "Take a guess.\n",
      "15\n",
      "Your guess is too low.\n",
      "Take a guess.\n",
      "25\n",
      "Your guess is too high.\n",
      "Take a guess.\n",
      "20\n",
      "Good job,  You guessed my number in 3 guesses!\n"
     ]
    }
   ],
   "source": [
    "import random\n",
    "guessesTaken = 0\n",
    "number = random.randint(1, 30)\n",
    "print('Well I am thinking of a number between 1 and 30.')\n",
    "while guessesTaken < 3:\n",
    "    print('Take a guess.') \n",
    "    guess = input()\n",
    "    guess = int(guess)\n",
    "    guessesTaken = guessesTaken + 1\n",
    "    if guess < number:\n",
    "        print('Your guess is too low.')\n",
    "    if guess > number:\n",
    "        print('Your guess is too high.')\n",
    "    if guess == number:\n",
    "        break\n",
    "if guess == number:\n",
    "    guessesTaken = str(guessesTaken)\n",
    "    print('Good job,  You guessed my number in ' + guessesTaken + ' guesses!')\n",
    "\n",
    "if guess != number:\n",
    "    number = str(number)\n",
    "    print('Nope. The number I was thinking of was ' + number)"
   ]
  },
  {
   "cell_type": "code",
   "execution_count": null,
   "metadata": {},
   "outputs": [],
   "source": []
  }
 ],
 "metadata": {
  "kernelspec": {
   "display_name": "Python 3",
   "language": "python",
   "name": "python3"
  },
  "language_info": {
   "codemirror_mode": {
    "name": "ipython",
    "version": 3
   },
   "file_extension": ".py",
   "mimetype": "text/x-python",
   "name": "python",
   "nbconvert_exporter": "python",
   "pygments_lexer": "ipython3",
   "version": "3.7.4"
  }
 },
 "nbformat": 4,
 "nbformat_minor": 2
}
